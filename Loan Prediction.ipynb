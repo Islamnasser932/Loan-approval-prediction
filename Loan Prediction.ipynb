{
 "cells": [
  {
   "cell_type": "code",
   "execution_count": null,
   "metadata": {},
   "outputs": [],
   "source": [
    "import pandas as pd\n",
    "import numpy as np\n",
    "import matplotlib.pyplot as plt\n",
    "%matplotlib inline\n",
    "import seaborn as sns\n",
    "import plotly.express as px \n",
    "import pygwalker as pyg\n",
    "from ydata_profiling import ProfileReport\n",
    "##############################################################\n",
    "# Preprocessing library\n",
    "from sklearn.preprocessing import LabelEncoder,PolynomialFeatures,StandardScaler,RobustScaler,MinMaxScaler,OneHotEncoder\n",
    "from sklearn.model_selection import train_test_split\n",
    "from sklearn.metrics import mean_absolute_error,mean_squared_error,r2_score,root_mean_squared_error,confusion_matrix,accuracy_score,classification_report\n",
    "from sklearn.decomposition import PCA\n",
    "####################################################################\n",
    "# Sampling library\n",
    "from imblearn.combine import SMOTEENN\n",
    "from collections import Counter\n",
    "from imblearn.over_sampling import SMOTE\n",
    "from imblearn.over_sampling import RandomOverSampler\n",
    "###################################################################\n",
    "# Algorithm Library\n",
    "from sklearn.svm import SVC\n",
    "from sklearn.ensemble import RandomForestClassifier\n",
    "from sklearn.neighbors import KNeighborsClassifier\n",
    "from sklearn.model_selection import cross_val_score\n",
    "from sklearn.linear_model import LogisticRegression\n",
    "import xgboost as xgb\n",
    "from xgboost import XGBClassifier\n",
    "from sklearn.model_selection import GridSearchCV\n",
    "from sklearn.pipeline import Pipeline\n",
    "import pickle"
   ]
  },
  {
   "cell_type": "code",
   "execution_count": null,
   "metadata": {},
   "outputs": [],
   "source": [
    "# color schema for visualizion \n",
    "colors10 = ['#387478', '#4682B4', '#32CD32', '#FFD700','#001F3F','#B17457','#F2E5BF','#DA8359','#FFD09B','#A66E38']  # You can define your own colors\n",
    "blue_1=['#2D4356', '#435B66', '#A76F6F', '#EAB2A0']\n",
    "blue_2=['#0C134F', '#1D267D', '#2D4263', '#347474']\n",
    "green1=['#1A1A19', '#31511E', '#859F3D', '#88C273']\n",
    "brown1=['#A79277', '#D1BB9E', '#EAD8C0', '#FFF2E1']\n",
    "yel_gre1=['#F3CA52', '#F6E9B2', '#0A6847', '#7ABA78']\n",
    "red_tel=['#C96868', '#FADFA1', '#FFF4EA', '#7EACB5']\n",
    "cofee=['#EAC696', '#C8AE7D', '#765827', '#65451F']\n",
    "pastel=['#B5C0D0', '#CCD3CA', '#B4B4B8', '#B3A398']\n",
    "retro=['#060047', '#B3005E', '#E90064', '#FF5F9E']\n",
    "white_blue=['#04009A', '#77ACF1', '#77ACF1', '#C0FEFC']\n",
    "cold_blue=['#240750', '#344C64', '#577B8D', '#57A6A1']\n",
    "cold_green=['#006769', '#40A578', '#9DDE8B', '#E6FF94']\n",
    "happy=['#D2E0FB', '#F9F3CC', '#D7E5CA', '#8EACCD']\n",
    "sky=['#00A9FF', '#89CFF3', '#A0E9FF', '#CDF5FD']\n",
    "grad_brown=['#8D7B68', '#A4907C', '#C8B6A6', '#F1DEC9']\n",
    "grad_black=['#2C3333', '#2E4F4F', '#0E8388', '#CBE4DE']\n",
    "grad_green=['#439A97', '#62B6B7', '#97DECE', '#CBEDD5']\n",
    "grad_blue=['#164863', '#427D9D', '#9BBEC8', '#DDF2FD']\n",
    "night=['#003C43', '#135D66', '#77B0AA', '#E3FEF7']"
   ]
  },
  {
   "cell_type": "markdown",
   "metadata": {},
   "source": [
    "\n",
    "<p style=\"font-size:30px; color:green; background-color:#2C3E50; padding:10px; border-radius:8px; text-align:center;\">\n",
    "            <b>Data Understanding</b>\n",
    " </p>"
   ]
  },
  {
   "cell_type": "markdown",
   "metadata": {},
   "source": [
    "# Import the date"
   ]
  },
  {
   "cell_type": "code",
   "execution_count": null,
   "metadata": {},
   "outputs": [],
   "source": [
    "df=pd.read_csv('Loan approval prediction.csv')"
   ]
  },
  {
   "cell_type": "code",
   "execution_count": null,
   "metadata": {},
   "outputs": [],
   "source": [
    "df.head()"
   ]
  },
  {
   "cell_type": "code",
   "execution_count": null,
   "metadata": {},
   "outputs": [],
   "source": [
    "df.info()"
   ]
  },
  {
   "cell_type": "markdown",
   "metadata": {},
   "source": [
    "<p align=\"center\" style=\"font-size:20px; color:#1A1A19; background-color:#697565; padding:10px; border-radius:5px;\">\n",
    "    The dataset contains loan approval prediction data with 58,645 rows and 13 columns. Here’s a description of each column: <br></br>\n",
    "    id: Unique identifier for each loan application.<br></br>\n",
    "    person_age: Age of the loan applicant.<br></br>\n",
    "    person_income: Annual income of the applicant.<br></br>\n",
    "    person_home_ownership: Homeownership status (e.g., RENT, OWN).<br></br>\n",
    "    person_emp_length: Number of years of employment experience.<br></br>\n",
    "    loan_intent: Purpose of the loan (e.g., EDUCATION, MEDICAL, PERSONAL, VENTURE).<br></br>\n",
    "    loan_grade: Loan grade representing the risk level.<br></br>\n",
    "    loan_amnt: Requested loan amount.<br></br>\n",
    "    loan_int_rate: Interest rate on the loan.<br></br>\n",
    "    loan_percent_income: Ratio of the loan amount to the applicant’s income.<br></br>\n",
    "    cb_person_default_on_file: Whether the person has a history of defaults (\"Y\" for yes, \"N\" for no).<br></br>\n",
    "    cb_person_cred_hist_length: Length of the applicant’s credit history in years.<br></br>\n",
    "    loan_status: Loan status (0 for rejected, 1 for approved).<br></br>\n",
    "</p>"
   ]
  },
  {
   "cell_type": "markdown",
   "metadata": {},
   "source": [
    "# Data Cleaning "
   ]
  },
  {
   "cell_type": "code",
   "execution_count": null,
   "metadata": {},
   "outputs": [],
   "source": [
    "# Check if the data has missing value or not \n",
    "# there is no missing value \n",
    "df.isnull().sum()"
   ]
  },
  {
   "cell_type": "code",
   "execution_count": null,
   "metadata": {},
   "outputs": [],
   "source": [
    "df.describe().T"
   ]
  },
  {
   "cell_type": "markdown",
   "metadata": {},
   "source": [
    "<p align=\"center\" style=\"font-size:20px; color:#1A1A19; background-color:#697565; padding:10px; border-radius:5px;\">\n",
    "    From the describtion it semms that : <br></br>\n",
    "    person_age has outliers and right skewness ( meran > median).<br></br>\n",
    "    person_income has high outliers and right skewness ( meran > median).<br></br>\n",
    "    person_emp_length has small outliers and right skewness ( meran > median).<br></br>\n",
    "    loan_amnt has high outliers and right skewness ( meran > median).<br></br>\n",
    "    loan_int_rate has samll outliers and left skewness ( meran < median).<br></br>\n",
    "    loan_percent_income\t has outliers and right skewness ( meran < median).<br></br>\n",
    "</p>    "
   ]
  },
  {
   "cell_type": "code",
   "execution_count": null,
   "metadata": {},
   "outputs": [],
   "source": [
    "df[df['person_age']==123]"
   ]
  },
  {
   "cell_type": "code",
   "execution_count": null,
   "metadata": {},
   "outputs": [],
   "source": [
    "# show the max value of the Number of years of employment experiencein the data , it displays as data entry error as the person age is less than the 123 \n",
    "df[df['person_emp_length']==123]"
   ]
  },
  {
   "cell_type": "markdown",
   "metadata": {},
   "source": [
    "<p align=\"center\" style=\"font-size:20px; color:#508C9B; background-color:#40534C; padding:10px; border-radius:5px;\">\n",
    "    isnights : <br></br>\n",
    "    person_age has max age is 123 and has number of years experices which is 7 ! , so it' a wrong data entry .<br></br>\n",
    "    person_emp_length has number of years experices is 123 but their ages are 28 , 21 ,so it' a wrong data entry .<br></br>\n",
    "\n",
    "</p>    "
   ]
  },
  {
   "cell_type": "code",
   "execution_count": null,
   "metadata": {},
   "outputs": [],
   "source": [
    "# determine the row that has the person age is 123\n",
    "index_to_drop = df[df['person_age'] == 123].index\n",
    "\n",
    "# Delete the row who has age 123 \n",
    "df = df.drop(index_to_drop)"
   ]
  },
  {
   "cell_type": "code",
   "execution_count": null,
   "metadata": {},
   "outputs": [],
   "source": [
    "# determine the row that has the person_emp_length is 123\n",
    "index_to_drop = df[df['person_emp_length'] == 123].index\n",
    "\n",
    "# Delete the row who has age 123 \n",
    "df = df.drop(index_to_drop)\n"
   ]
  },
  {
   "cell_type": "code",
   "execution_count": null,
   "metadata": {},
   "outputs": [],
   "source": [
    "df[df['loan_status']==1]"
   ]
  },
  {
   "cell_type": "code",
   "execution_count": null,
   "metadata": {},
   "outputs": [],
   "source": [
    "df[df['loan_status']==0]"
   ]
  },
  {
   "cell_type": "code",
   "execution_count": null,
   "metadata": {},
   "outputs": [],
   "source": [
    "df.describe(include='object').T"
   ]
  },
  {
   "cell_type": "markdown",
   "metadata": {},
   "source": [
    "# Profile Report"
   ]
  },
  {
   "cell_type": "code",
   "execution_count": null,
   "metadata": {},
   "outputs": [],
   "source": [
    "profile=ProfileReport(df,title='Loan approval prediction')\n",
    "profile.to_notebook_iframe()"
   ]
  },
  {
   "cell_type": "markdown",
   "metadata": {},
   "source": [
    "# Exploratory Data Analysis (EDA)"
   ]
  },
  {
   "cell_type": "code",
   "execution_count": null,
   "metadata": {},
   "outputs": [],
   "source": [
    "df.columns"
   ]
  },
  {
   "cell_type": "code",
   "execution_count": null,
   "metadata": {},
   "outputs": [],
   "source": [
    "# Create the scatter plot to display the Age of the loan applicant \n",
    "fig = px.scatter(df['person_age'].value_counts().reset_index(), \n",
    "                 x='person_age',y='count',\n",
    "                 color='person_age', color_discrete_sequence=yel_gre1)\n",
    "\n",
    "# Update layout for title\n",
    "fig.update_layout( title=\"Age of the loan applicant\",  title_x=0.5, title_font=dict(size=20))\n",
    "\n",
    "# Annotate mean, min, and max values\n",
    "fig.add_annotation( x=df['person_age'].mean(), y=0, text=f\"Mean: {df['person_age'].mean():.2f}\", showarrow=True, arrowhead=2, ax=0, ay=-50, font=dict(size=12, color=\"blue\") )\n",
    "fig.add_annotation(x=df['person_age'].min(), y=0, text=f\"Min: {df['person_age'].min()}\",showarrow=True, arrowhead=2, ax=0, ay=-50,font=dict(size=12, color=\"green\"))\n",
    "fig.add_annotation(x=df['person_age'].max(), text=f\"Max: {df['person_age'].max()}\",showarrow=True, arrowhead=2, ax=0, ay=-50,font=dict(size=12, color=\"red\"))"
   ]
  },
  {
   "cell_type": "code",
   "execution_count": null,
   "metadata": {},
   "outputs": [],
   "source": []
  },
  {
   "cell_type": "code",
   "execution_count": null,
   "metadata": {},
   "outputs": [],
   "source": [
    "# Create the scatter plot to display the Annual income of the applicant.\n",
    "fig = px.scatter(df['person_income'].value_counts().reset_index(), \n",
    "                 x='person_income', y='count', \n",
    "                 color='person_income', color_discrete_sequence=yel_gre1)\n",
    "\n",
    "# Update layout for title\n",
    "fig.update_layout(\n",
    "    title=\" Annual income of the applicant.\",\n",
    "    title_x=0.5,\n",
    "    title_font=dict(size=20)\n",
    ")\n",
    "\n",
    "# Annotate mean, min, and max values\n",
    "fig.add_annotation(\n",
    "    x=df['person_income'].mean(), y=0, text=f\"Mean: {df['person_income'].mean():.2f}\",\n",
    "    showarrow=True, arrowhead=2, ax=0, ay=-150,\n",
    "    font=dict(size=14, color=\"blue\")\n",
    ")\n",
    "fig.add_annotation(\n",
    "    x=df['person_income'].min(), y=0, text=f\"Min: {df['person_income'].min()}\",\n",
    "    showarrow=True, arrowhead=2, ax=0, ay=-100,\n",
    "    font=dict(size=12, color=\"green\")\n",
    ")\n",
    "fig.add_annotation(\n",
    "    x=df['person_income'].max(), text=f\"Max: {df['person_income'].max()}\",\n",
    "    showarrow=True, arrowhead=2, ax=0, ay=-100,\n",
    "    font=dict(size=12, color=\"red\")\n",
    ")"
   ]
  },
  {
   "cell_type": "code",
   "execution_count": null,
   "metadata": {},
   "outputs": [],
   "source": [
    "# Create the pie chart for Homeownership status\n",
    "fig = px.pie(\n",
    "    df['person_home_ownership'].value_counts().reset_index(),\n",
    "    names='person_home_ownership',  # Set regions as labels\n",
    "    values='count',  # Set count as the value for each slice\n",
    "    color='person_home_ownership'\n",
    ")\n",
    "\n",
    "# Update layout for title\n",
    "fig.update_layout(\n",
    "    title=\"Homeownership status\",\n",
    "    title_x=0.5,\n",
    "    title_font=dict(size=20)\n",
    ")\n",
    "\n",
    "# Show name, percentage, and value on each slice\n",
    "fig.update_traces(textinfo='label+percent+value', hole=0.4)\n",
    "\n",
    "fig.show()\n"
   ]
  },
  {
   "cell_type": "code",
   "execution_count": null,
   "metadata": {},
   "outputs": [],
   "source": [
    "# Create the scatter plot for Number of years of employment experience\n",
    "fig = px.scatter(df['person_emp_length'].value_counts().reset_index(), \n",
    "                 x='person_emp_length', y='count', \n",
    "                 color='person_emp_length', color_discrete_sequence=yel_gre1)\n",
    "\n",
    "# Update layout for title\n",
    "fig.update_layout(\n",
    "    title=\"Number of years of employment experience.\",\n",
    "    title_x=0.5,\n",
    "    title_font=dict(size=20)\n",
    ")\n",
    "\n",
    "# Annotate mean, min, and max values\n",
    "fig.add_annotation(\n",
    "    x=df['person_emp_length'].mean(), y=0, text=f\"Mean: {df['person_emp_length'].mean():.2f}\",\n",
    "    showarrow=True, arrowhead=2, ax=20, ay=-40,\n",
    "    font=dict(size=12, color=\"black\")\n",
    ")\n",
    "fig.add_annotation(\n",
    "    x=df['person_emp_length'].min(), y=0, text=f\"Min: {df['person_emp_length'].min()}\",\n",
    "    showarrow=True, arrowhead=2, ax=20, ay=-40,\n",
    "    font=dict(size=12, color=\"green\")\n",
    ")\n",
    "fig.add_annotation(\n",
    "    x=df['person_emp_length'].max(), text=f\"Max: {df['person_emp_length'].max()}\",\n",
    "    showarrow=True, arrowhead=2, ax=20, ay=-40,\n",
    "    font=dict(size=12, color=\"red\")\n",
    ")\n"
   ]
  },
  {
   "cell_type": "code",
   "execution_count": null,
   "metadata": {},
   "outputs": [],
   "source": []
  },
  {
   "cell_type": "code",
   "execution_count": null,
   "metadata": {},
   "outputs": [],
   "source": []
  },
  {
   "cell_type": "code",
   "execution_count": null,
   "metadata": {},
   "outputs": [],
   "source": [
    "# Create the histogram plot for Purpose of the loan\n",
    "fig = px.histogram(df['loan_intent'].value_counts().reset_index(), \n",
    "                 x='loan_intent', y='count', \n",
    "                 color='loan_intent', color_discrete_sequence=colors10)\n",
    "\n",
    "# Update layout for title\n",
    "fig.update_layout(\n",
    "    title=\"Purpose of the loan\",\n",
    "    title_x=0.5,\n",
    "    title_font=dict(size=20)\n",
    ")"
   ]
  },
  {
   "cell_type": "code",
   "execution_count": null,
   "metadata": {},
   "outputs": [],
   "source": [
    "# Create the pie chart for Loan grade representing the risk level\n",
    "fig = px.pie(\n",
    "    df['loan_grade'].value_counts().reset_index(),\n",
    "    names='loan_grade',  # Set regions as labels\n",
    "    values='count',  # Set count as the value for each slice\n",
    "    color='loan_grade')\n",
    "\n",
    "# Update layout for title\n",
    "fig.update_layout(\n",
    "    title=\"Loan grade representing the risk level.\",\n",
    "    title_x=0.5,\n",
    "    title_font=dict(size=20)\n",
    ")\n",
    "\n",
    "# Show name, percentage, and value on each slice\n",
    "fig.update_traces(textinfo='label+value', hole=0.4)"
   ]
  },
  {
   "cell_type": "code",
   "execution_count": null,
   "metadata": {},
   "outputs": [],
   "source": [
    "# Create the scatter plot for Requested loan amount\n",
    "fig = px.scatter(df['loan_amnt'].value_counts().reset_index(), \n",
    "                 x='loan_amnt', y='count', \n",
    "                 color='loan_amnt', color_discrete_sequence=yel_gre1)\n",
    "\n",
    "# Update layout for title\n",
    "fig.update_layout(\n",
    "    title=\"Requested loan amount\",\n",
    "    title_x=0.5,\n",
    "    title_font=dict(size=20)\n",
    ")\n",
    "\n",
    "# Annotate mean, min, and max values\n",
    "fig.add_annotation(\n",
    "    x=df['loan_amnt'].mean(), y=0, text=f\"Mean: {df['loan_amnt'].mean():.2f}\",\n",
    "    showarrow=True, arrowhead=2, ax=20, ay=-40,\n",
    "    font=dict(size=12, color=\"black\")\n",
    ")\n",
    "fig.add_annotation(\n",
    "    x=df['loan_amnt'].min(), y=0, text=f\"Min: {df['loan_amnt'].min()}\",\n",
    "    showarrow=True, arrowhead=2, ax=20, ay=-40,\n",
    "    font=dict(size=12, color=\"green\")\n",
    ")\n",
    "fig.add_annotation(\n",
    "    x=df['loan_amnt'].max(), text=f\"Max: {df['loan_amnt'].max()}\",\n",
    "    showarrow=True, arrowhead=2, ax=20, ay=-40,\n",
    "    font=dict(size=12, color=\"red\")\n",
    ")\n",
    "\n"
   ]
  },
  {
   "cell_type": "code",
   "execution_count": null,
   "metadata": {},
   "outputs": [],
   "source": []
  },
  {
   "cell_type": "code",
   "execution_count": null,
   "metadata": {},
   "outputs": [],
   "source": [
    "# Create the scatter plot for Interest rate on the loan\n",
    "fig = px.scatter(df['loan_int_rate'].value_counts().reset_index(), \n",
    "                 x='loan_int_rate', y='count', \n",
    "                 color='loan_int_rate', color_discrete_sequence=yel_gre1)\n",
    "\n",
    "# Update layout for title\n",
    "fig.update_layout(\n",
    "    title=\"Interest rate on the loan.\",\n",
    "    title_x=0.5,\n",
    "    title_font=dict(size=20)\n",
    ")\n",
    "\n",
    "# Annotate mean, min, and max values\n",
    "fig.add_annotation(\n",
    "    x=df['loan_int_rate'].mean(), y=0, text=f\"Mean: {df['loan_int_rate'].mean():.2f}\",\n",
    "    showarrow=True, arrowhead=2, ax=0, ay=-30,\n",
    "    font=dict(size=12, color=\"black\")\n",
    ")\n",
    "fig.add_annotation(\n",
    "    x=df['loan_int_rate'].min(), y=0, text=f\"Min: {df['loan_int_rate'].min()}\",\n",
    "    showarrow=True, arrowhead=2, ax=0, ay=-30,\n",
    "    font=dict(size=12, color=\"green\")\n",
    ")\n",
    "fig.add_annotation(\n",
    "    x=df['loan_int_rate'].max(), y=0, text=f\"Max: {df['loan_int_rate'].max()}\",\n",
    "    showarrow=True, arrowhead=2, ax=0, ay=-30,\n",
    "    font=dict(size=12, color=\"red\")\n",
    ")\n"
   ]
  },
  {
   "cell_type": "code",
   "execution_count": null,
   "metadata": {},
   "outputs": [],
   "source": [
    "# Create the scatter plot for Ratio of the loan amount to the applicant’s income.\n",
    "fig = px.scatter(df['loan_percent_income'].value_counts().reset_index(), \n",
    "                 x='loan_percent_income', y='count', \n",
    "                 color='loan_percent_income', color_discrete_sequence=yel_gre1)\n",
    "\n",
    "# Update layout for title\n",
    "fig.update_layout(\n",
    "    title=\"Ratio of the loan amount to the applicant’s income.\",\n",
    "    title_x=0.5,\n",
    "    title_font=dict(size=20)\n",
    ")\n",
    "\n",
    "# Annotate mean, min, and max values\n",
    "fig.add_annotation(\n",
    "    x=df['loan_percent_income'].mean(), y=0, text=f\"Mean: {df['loan_percent_income'].mean():.2f}\",\n",
    "    showarrow=True, arrowhead=2, ax=10, ay=-40,\n",
    "    font=dict(size=12, color=\"blue\")\n",
    ")\n",
    "fig.add_annotation(\n",
    "    x=df['loan_percent_income'].min(), y=0, text=f\"Min: {df['loan_percent_income'].min()}\",\n",
    "    showarrow=True, arrowhead=2, ax=10, ay=-40,\n",
    "    font=dict(size=12, color=\"green\")\n",
    ")\n",
    "fig.add_annotation(\n",
    "    x=df['loan_percent_income'].max(), y=0, text=f\"Max: {df['loan_percent_income'].max()}\",\n",
    "    showarrow=True, arrowhead=2, ax=10, ay=-40,\n",
    "    font=dict(size=12, color=\"red\")\n",
    ")\n",
    "\n"
   ]
  },
  {
   "cell_type": "code",
   "execution_count": null,
   "metadata": {},
   "outputs": [],
   "source": [
    "# Create the scatter plot for Length of the applicant’s credit history in years\n",
    "fig = px.scatter(df['cb_person_cred_hist_length'].value_counts().reset_index(), \n",
    "                 x='cb_person_cred_hist_length', y='count', \n",
    "                 color='cb_person_cred_hist_length', color_discrete_sequence=yel_gre1)\n",
    "\n",
    "# Update layout for title\n",
    "fig.update_layout(\n",
    "    title=\"Length of the applicant’s credit history in years.\",\n",
    "    title_x=0.5,\n",
    "    title_font=dict(size=20)\n",
    ")\n",
    "\n",
    "# Annotate mean, min, and max values\n",
    "fig.add_annotation(\n",
    "    x=df['cb_person_cred_hist_length'].mean(), y=0, text=f\"Mean: {df['cb_person_cred_hist_length'].mean():.2f}\",\n",
    "    showarrow=True, arrowhead=2, ax=0, ay=-30,\n",
    "    font=dict(size=12, color=\"blue\")\n",
    ")\n",
    "fig.add_annotation(\n",
    "    x=df['cb_person_cred_hist_length'].min(), y=0, text=f\"Min: {df['cb_person_cred_hist_length'].min()}\",\n",
    "    showarrow=True, arrowhead=2, ax=0, ay=-30,\n",
    "    font=dict(size=12, color=\"green\")\n",
    ")\n",
    "fig.add_annotation(\n",
    "    x=df['cb_person_cred_hist_length'].max(), y=0, text=f\"Max: {df['cb_person_cred_hist_length'].max()}\",\n",
    "    showarrow=True, arrowhead=2, ax=0, ay=-30,\n",
    "    font=dict(size=12, color=\"red\")\n",
    ")\n",
    "\n"
   ]
  },
  {
   "cell_type": "code",
   "execution_count": null,
   "metadata": {},
   "outputs": [],
   "source": [
    "# Create the pie chart for Whether the person has a history of defaults.\n",
    "fig = px.pie(\n",
    "    df['cb_person_default_on_file'].value_counts().reset_index(),\n",
    "    names='cb_person_default_on_file',  # Set regions as labels\n",
    "    values='count',   # Set count as the value for each slice\n",
    "    color='cb_person_default_on_file',\n",
    "    color_discrete_sequence=cold_green\n",
    ")\n",
    "\n",
    "# Update layout for title\n",
    "fig.update_layout(\n",
    "    title=\"Whether the person has a history of defaults.\",\n",
    "    title_x=0.5,\n",
    "    title_font=dict(size=20)\n",
    ")\n",
    "\n",
    "\n",
    "# Show name, percentage, and value on each slice\n",
    "fig.update_traces(textinfo='label+percent+value', hole=0.4)\n"
   ]
  },
  {
   "cell_type": "code",
   "execution_count": null,
   "metadata": {},
   "outputs": [],
   "source": [
    "# Create the pie chart for Loan status (0 for rejected, 1 for approved)\n",
    "fig = px.pie(\n",
    "    df['loan_status'].value_counts().reset_index(),\n",
    "    names='loan_status',  # Set regions as labels\n",
    "    values='count',   # Set count as the value for each slice\n",
    "    color='loan_status',\n",
    "    color_discrete_sequence=sky\n",
    ")\n",
    "\n",
    "# Update layout for title\n",
    "fig.update_layout(\n",
    "    title=\"Loan status (0 for rejected, 1 for approved).\",\n",
    "    title_x=0.5,\n",
    "    title_font=dict(size=20)\n",
    ")\n",
    "# Show name, percentage, and value on each slice\n",
    "fig.update_traces(textinfo='label+percent+value', hole=0.4)"
   ]
  },
  {
   "cell_type": "markdown",
   "metadata": {},
   "source": [
    "# Multidimension analysis"
   ]
  },
  {
   "cell_type": "code",
   "execution_count": null,
   "metadata": {},
   "outputs": [],
   "source": [
    "df.columns"
   ]
  },
  {
   "cell_type": "code",
   "execution_count": null,
   "metadata": {},
   "outputs": [],
   "source": [
    "# Create Scater plot between Applicant's Income vs Age with Loan Status as Bubble Siz\n",
    "fig = px.scatter(\n",
    "    df,\n",
    "    x='person_age',\n",
    "    y='person_income',\n",
    "    size='person_income',  # Bubble size based on credit history length\n",
    "    color='loan_status',\n",
    "    color_continuous_scale='Viridis',  # Use a continuous color scale for better gradient\n",
    "    title=\"Applicant's Income vs Age with Loan Status as Bubble Size\"\n",
    ")\n",
    "# Update layout for title\n",
    "fig.update_layout(\n",
    "    title_x=0.5,\n",
    "    title_font=dict(size=20)\n",
    ")\n",
    "fig.show()"
   ]
  },
  {
   "cell_type": "markdown",
   "metadata": {},
   "source": [
    "\n",
    "<p>\n",
    "    <div style=\"text-align:left; font-size:18px; color:#000000; background-color:#77ACF1; padding:15px; border-radius:8px; border:1px solid #04009A;\">\n",
    "        The most common age range with higher income is between 22 and 50 years old.<br><br>\n",
    "        Applicants aged between 22 and 35 tend to have incomes greater than 500k.   \n",
    "    </div>\n",
    "    <div style=\"text-align:left; font-size:18px; color:yellow; background-color:#77ACF1; padding:15px; border-radius:8px; border:1px solid #04009A;\">\n",
    "        we notice that the accepted loans mostly for the age between 22 and 60 and it doesn't depend on the higher income at all ,the max income has accepted loan is 379k however the the applicant has more than 1M income hasn't accepted\n",
    "    </div>\n",
    "</p>\n"
   ]
  },
  {
   "cell_type": "code",
   "execution_count": null,
   "metadata": {},
   "outputs": [],
   "source": [
    "\n",
    "# Create a Pie chart between loan_status and loan_amount\n",
    "fig = px.pie(df, names='loan_status', values='loan_amnt')\n",
    "\n",
    "# Update the layout with title and styling\n",
    "fig.update_layout(\n",
    "    title=\"Loan Status vs Loan Amount\",\n",
    "    title_x=0.5,\n",
    "    title_font=dict(size=20)\n",
    ")\n",
    "# Show name, percentage, and value on each slice\n",
    "fig.update_traces(textinfo='label+percent+value', hole=0.4)\n",
    "\n",
    "# Show the plot\n",
    "fig.show()"
   ]
  },
  {
   "cell_type": "markdown",
   "metadata": {},
   "source": [
    "\n",
    "<p align=\"center\" style=\"font-size:20px; color:#000000; background-color:#77ACF1; padding:10px; border-radius:5px;\">\n",
    "        <b>the loan amount of The Accepted Loan is 93M with 17.3% out of the total.</b><br><br>\n",
    "        <b>the loan amount of The rejected Loan is 447M with 82.7% out of the total.</b> <br><br>\n",
    "         <div style=\"text-align:center; font-size:20px; color:yellow; background-color:black; padding:15px; border-radius:8px; border:1px solid #04009A;\">\n",
    "                <b> So Most of the Applicant Loans is rejected </b>\n",
    "        </div>\n",
    "</p>\n"
   ]
  },
  {
   "cell_type": "code",
   "execution_count": null,
   "metadata": {},
   "outputs": [],
   "source": []
  },
  {
   "cell_type": "code",
   "execution_count": null,
   "metadata": {},
   "outputs": [],
   "source": [
    "# Create Scater plot between Applicant's Income vs loan_amount with loan_status \n",
    "fig = px.scatter(\n",
    "    df,\n",
    "    x='loan_amnt',\n",
    "    y='person_income',\n",
    "    size='loan_amnt',  # Bubble size based on credit history length\n",
    "    color='loan_status',\n",
    "    color_continuous_scale='Plasma',  # Use a continuous color scale for better gradient\n",
    "    title=\"Applicant's Income vs loan_amount with loan_status as Bubble Size\"\n",
    ")\n",
    "# Update layout for title\n",
    "fig.update_layout(\n",
    "    title_x=0.5,\n",
    "    title_font=dict(size=20)\n",
    ")\n",
    "fig.show()\n"
   ]
  },
  {
   "cell_type": "markdown",
   "metadata": {},
   "source": [
    "\n",
    "<p align=\"center\" style=\"font-size:20px; color:#00A9FF; background-color:#164863; padding:10px; border-radius:5px;\">\n",
    "        <b>most of approval loan amount between 15k and 30k and the applicant has less income .</b>\n",
    "</p>\n"
   ]
  },
  {
   "cell_type": "code",
   "execution_count": null,
   "metadata": {},
   "outputs": [],
   "source": [
    "# Create Scater plot between Applicant's loan_amnt vs Age with Loan Status\n",
    "fig = px.scatter(\n",
    "    df,\n",
    "    x='person_age',\n",
    "    y='loan_amnt',\n",
    "    size='loan_amnt',  # Bubble size based on credit history length\n",
    "    color='loan_status',\n",
    "    color_continuous_scale='Viridis',  # Use a continuous color scale for better gradient\n",
    "    title=\"Applicant's loan_amount vs Age with Loan Status as Bubble Size\"\n",
    ")\n",
    "\n",
    "# Update layout for title\n",
    "fig.update_layout(\n",
    "    title_x=0.5,\n",
    "    title_font=dict(size=20)\n",
    ")\n",
    "\n",
    "fig.show()"
   ]
  },
  {
   "cell_type": "markdown",
   "metadata": {},
   "source": [
    "\n",
    "<p align=\"center\" style=\"font-size:20px; color:#9EDF9C; background-color:#164863; padding:10px; border-radius:5px;\">\n",
    "        <b>most of approval loan amount between 15k and 30k and the applicant has ages between 22 to 60.</b>\n",
    "</p>\n"
   ]
  },
  {
   "cell_type": "code",
   "execution_count": null,
   "metadata": {},
   "outputs": [],
   "source": [
    "# Create Scater plot between Applicant's person_emp_length vs Age with Loan Status\n",
    "fig = px.scatter(\n",
    "    df,\n",
    "    x='person_age',\n",
    "    y='person_emp_length',\n",
    "    size='person_emp_length',  # Bubble size based on credit history length\n",
    "    color='loan_status',\n",
    "    color_continuous_scale='Plasma',  # Use a continuous color scale for better gradient\n",
    "    title=\"Applicant's person_emp_length vs Age with Loan Status as Bubble Size\"\n",
    ")\n",
    "\n",
    "# Update layout for title\n",
    "fig.update_layout(\n",
    "    title_x=0.5,\n",
    "    title_font=dict(size=20)\n",
    ")\n",
    "fig.show()"
   ]
  },
  {
   "cell_type": "markdown",
   "metadata": {},
   "source": [
    "\n",
    "<p align=\"center\" style=\"font-size:20px; color:red; background-color:#black; padding:10px; border-radius:5px;\">\n",
    "        <b>there are inconsistencies in the relationship between a person's age (person_age) and their years of employment (person_emp_length).</b>\n",
    "</p>\n"
   ]
  },
  {
   "cell_type": "code",
   "execution_count": null,
   "metadata": {},
   "outputs": [],
   "source": [
    "# Create Scater plot between Applicant's cb_person_cred_hist_length vs Age with Loan Status\n",
    "fig = px.scatter(\n",
    "    df,\n",
    "    x='person_age',\n",
    "    y='cb_person_cred_hist_length',\n",
    "    size='cb_person_cred_hist_length',  # Bubble size based on credit history length\n",
    "    color='loan_status',\n",
    "    color_continuous_scale='Viridis',  # Use a continuous color scale for better gradient\n",
    "    title=\"Applicant's cb_person_cred_hist_length vs Age with Loan Status as Bubble Size\"\n",
    ")\n",
    "# Update layout for title\n",
    "fig.update_layout(\n",
    "    title_x=0.5,\n",
    "    title_font=dict(size=20)\n",
    ")\n",
    "fig.show()"
   ]
  },
  {
   "cell_type": "markdown",
   "metadata": {},
   "source": [
    "\n",
    "<p align=\"center\" style=\"font-size:20px; color:#181C14; background-color:#6CBEC7; padding:10px; border-radius:5px;\">\n",
    "        <b>there is a positive strong relationship between age and the Length of the applicant’s credit history in years.</b>\n",
    "</p>\n"
   ]
  },
  {
   "cell_type": "code",
   "execution_count": null,
   "metadata": {},
   "outputs": [],
   "source": [
    "fig = px.treemap(\n",
    "    df,\n",
    "    path=['person_home_ownership', 'loan_intent', 'loan_grade', 'cb_person_default_on_file'],\n",
    "    values='loan_amnt',\n",
    "    color='loan_amnt',  # Use loan amount for a gradient effect\n",
    "    color_continuous_scale='Viridis',  # Choose a visually appealing color scale\n",
    "    title=\"Loan Amount Distribution by Home Ownership, Loan Intent, Loan Grade, and Default Status\"\n",
    ")\n",
    "\n",
    "# Update layout for a centered title, background, and padding\n",
    "fig.update_layout(\n",
    "    title={\n",
    "        'text': \"Loan Amount Distribution by Home Ownership, Loan Intent, Loan Grade, and Default Status\",\n",
    "        'x': 0.5,\n",
    "        'y': 0.95,\n",
    "        'xanchor': 'center',\n",
    "        'yanchor': 'top',\n",
    "        'font': dict(size=22, color='black')\n",
    "    },\n",
    "    margin=dict(t=50, l=25, r=25, b=25),\n",
    "    paper_bgcolor=\"white\"  # Set background color to white for a cleaner look\n",
    ")\n",
    "\n",
    "# Customize the hover info for clarity\n",
    "fig.update_traces(\n",
    "    textinfo=\"label+value+percent root\",  # Show label, value, and percentage of the root level\n",
    "    hovertemplate=\"<b>%{label}</b><br>Loan Amount: %{value}<br>Percentage of Total: %{percentRoot:.2%}\"\n",
    ")\n",
    "fig.show()\n"
   ]
  },
  {
   "cell_type": "markdown",
   "metadata": {},
   "source": [
    "<p align=\"center\" style=\"font-size:20px; color:#CBDCEB; background-color:#526D82; padding:10px; border-radius:5px;\">\n",
    "        <b>it seems that in higher loan grade in any home ownership the person doesn't have a history of defaults so the most is paying on time .</b> <br></br>\n",
    "        <b>most of the loan reasons is for Education and for peopple has rent and Mortgage home while in Own and Other place in the second phase so most of the people who pay for living need loan for education and asking for high loan amount.</b> <br></br>\n",
    "        <b>most of the Medical loans has second place for rent and the last choise for mortgage and other and at the 4th place for own home  .</b> <br></br>\n",
    "        <b>most of the Venture loans has 1st place for own ,other and the last choise for rent and other and at the 3th place for mortgage home  .</b> <br></br>\n",
    "\n",
    "</p>"
   ]
  },
  {
   "cell_type": "code",
   "execution_count": null,
   "metadata": {},
   "outputs": [],
   "source": []
  },
  {
   "cell_type": "code",
   "execution_count": null,
   "metadata": {},
   "outputs": [],
   "source": [
    "# Create a Pie chart between loan_intent and loan_amnt\n",
    "fig = px.pie(df, names='loan_intent', values='loan_amnt')\n",
    "\n",
    "# Update the layout with title and styling\n",
    "fig.update_layout(\n",
    "    title=\"loan_intent with the loan amount\",\n",
    "    title_x=0.5,\n",
    "    title_font=dict(size=20)\n",
    ")\n",
    "# Show name, percentage, and value on each slice\n",
    "fig.update_traces(textinfo='label+percent+value', hole=0.4)\n",
    "\n",
    "# Show the plot\n",
    "fig.show()"
   ]
  },
  {
   "cell_type": "markdown",
   "metadata": {},
   "source": []
  },
  {
   "cell_type": "code",
   "execution_count": null,
   "metadata": {},
   "outputs": [],
   "source": [
    "fig = px.box(\n",
    "    data_frame=df,\n",
    "    x='loan_grade',\n",
    "    y='loan_int_rate',\n",
    "    color='loan_status',\n",
    "    color_discrete_sequence=['red', 'green'],\n",
    "    title=\"Applicant's Interest Rate by loan_grade\"\n",
    ")\n",
    "\n",
    "# Update layout for title\n",
    "fig.update_layout(\n",
    "    title_x=0.5,\n",
    "    title_font=dict(size=20),\n",
    "    xaxis_title=\"Loan Status (0 = Rejected, 1 = Approved)\",\n",
    "    yaxis_title=\"Interest Rate (%)\"\n",
    ")\n",
    "\n",
    "# Display the plot\n",
    "fig.show()"
   ]
  },
  {
   "cell_type": "code",
   "execution_count": null,
   "metadata": {},
   "outputs": [],
   "source": [
    "fig = px.treemap(\n",
    "    df, \n",
    "    path=['person_home_ownership', 'loan_intent', 'loan_grade'], \n",
    "    values='person_income',\n",
    "    color='person_income',  # Use loan_int_rate for a gradient color\n",
    "    color_continuous_scale='Viridis',  # Choose a visually pleasing continuous color scale\n",
    "    title=\"person_income  by Home Ownership, Loan Intent, and Grade\"\n",
    ")\n",
    "\n",
    "# Update layout for a cleaner and more readable design\n",
    "fig.update_layout(title={ 'text': \"person_income by Home Ownership, Loan Intent, and Grade\",  'x': 0.5,'xanchor': 'center','yanchor': 'top','font': dict(size=22, color='black') } # Center and customize title font  \n",
    "  ,  margin=dict(t=50, l=25, r=25, b=25),  # Add padding for clarity\n",
    "    paper_bgcolor=\"white\"  # Set background color to white\n",
    ")\n",
    "\n",
    "# Update trace for better hover information\n",
    "fig.update_traces(\n",
    "    textinfo=\"label+percent entry+value\",  # Display label, percentage, and value\n",
    "    hovertemplate=\"<b>%{label}</b><br>person_income: %{value}<br>Percentage: %{percentEntry:.2%}\"\n",
    ")\n",
    "\n",
    "fig.show()"
   ]
  },
  {
   "cell_type": "code",
   "execution_count": null,
   "metadata": {},
   "outputs": [],
   "source": [
    "# Create a Pie chart between person_home_ownership and loan_amnt\n",
    "fig = px.pie(df, names='person_home_ownership', values='person_income',color_discrete_sequence=cofee)\n",
    "\n",
    "# Update the layout with title and styling\n",
    "fig.update_layout(\n",
    "    title=\"person_home_ownership with the person_income\",\n",
    "    title_x=0.5,\n",
    "    title_font=dict(size=20)\n",
    ")\n",
    "# Show name, percentage, and value on each slice\n",
    "fig.update_traces(textinfo='label+percent+value', hole=0.3)"
   ]
  },
  {
   "cell_type": "markdown",
   "metadata": {},
   "source": [
    "<p align=\"center\" style=\"font-size:20px; color:#201E43; background-color:#227B94; padding:10px; border-radius:5px;\">\n",
    "        <b>Mortgage home Has higher Income , Rent home is the 2nd one and the Own home is the 3rd .</b>\n",
    "</p>"
   ]
  },
  {
   "cell_type": "code",
   "execution_count": null,
   "metadata": {},
   "outputs": [],
   "source": [
    "# Create the histogram plot for person_home_ownership and loan_amnt\n",
    "fig = px.histogram(df, \n",
    "                 x='person_home_ownership', y='loan_amnt', \n",
    "                 color='person_home_ownership', color_discrete_sequence=colors10)\n",
    "\n",
    "# Update layout for title\n",
    "fig.update_layout(\n",
    "    title=\"person_home_ownership and loan_amnt \",\n",
    "    title_x=0.5,\n",
    "    title_font=dict(size=20)\n",
    ")"
   ]
  },
  {
   "cell_type": "code",
   "execution_count": null,
   "metadata": {},
   "outputs": [],
   "source": [
    "df.columns"
   ]
  },
  {
   "cell_type": "code",
   "execution_count": null,
   "metadata": {},
   "outputs": [],
   "source": [
    "fig = px.box(\n",
    "    data_frame=df,\n",
    "    x='loan_status',\n",
    "    y='loan_percent_income',\n",
    "    color='loan_status',\n",
    "    color_discrete_sequence=['red', 'green'],\n",
    "    title=\"Applicant's loan_percent_income by Loan Status\"\n",
    ")\n",
    "\n",
    "# Update layout for title\n",
    "fig.update_layout(\n",
    "    title_x=0.5,\n",
    "    title_font=dict(size=20),\n",
    "    xaxis_title=\"Loan Status (0 = Rejected, 1 = Approved)\",\n",
    "    yaxis_title=\"loan_percent_income(%)\"\n",
    ")\n",
    "\n",
    "# Display the plot\n",
    "fig.show()"
   ]
  },
  {
   "cell_type": "code",
   "execution_count": null,
   "metadata": {},
   "outputs": [],
   "source": [
    "fig = px.box(\n",
    "    data_frame=df,\n",
    "    x='loan_status',\n",
    "    y='loan_int_rate',\n",
    "    color='loan_status',\n",
    "    color_discrete_sequence=['red', 'green'],\n",
    "    title=\"Applicant's Interest Rate by Loan Status\"\n",
    ")\n",
    "\n",
    "# Update layout for title\n",
    "fig.update_layout(\n",
    "    title_x=0.5,\n",
    "    title_font=dict(size=20),\n",
    "    xaxis_title=\"Loan Status (0 = Rejected, 1 = Approved)\",\n",
    "    yaxis_title=\"Interest Rate (%)\"\n",
    ")\n",
    "\n",
    "# Display the plot\n",
    "fig.show()"
   ]
  },
  {
   "cell_type": "code",
   "execution_count": null,
   "metadata": {},
   "outputs": [],
   "source": []
  },
  {
   "cell_type": "markdown",
   "metadata": {},
   "source": [
    "<div style=\"background-color:#EAF2F8; padding:20px; border-radius:8px; border:1px solid #2980B9; font-size:20px;\">\n",
    "    <p align=\"center\" style=\"color:#2C3E50; font-weight:bold; font-size:22px;\">💡 Insights from the Visualization:</p>\n",
    "    <!-- Insight 1 -->\n",
    "    <div style=\"background-color:#D6EAF8; padding:15px; border-radius:8px; margin-bottom:15px;\">\n",
    "        <p style=\"font-size:18px; color:#2C3E50;\">\n",
    "            The most common age range with higher income is between 22 and 40 years old.\n",
    "        </p>\n",
    "        <p style=\"font-size:18px; color:#2980B9;\">\n",
    "            Most accepted loans are for applicants aged 22-60, and high income does not guarantee loan acceptance.\n",
    "        </p>\n",
    "        <p style=\"font-size:18px; color:#2980B9;\">  Applicants aged between 22 and 35 tend to have incomes greater than 500k.   </p>\n",
    "        <p style=\"font-size:18px; color:#2980B9;\">  the accepted loans mostly for the age between 22 and 60 ,the max income has accepted loan is 379k however the the applicant has more than 1M income hasn't accepted.   </p>\n",
    "    </div>\n",
    " <!-- Loan Approval Insight -->\n",
    "    <div style=\"background-color:#D6EAF8; padding:15px; border-radius:8px; margin-bottom:15px;\">\n",
    "        <p style=\"font-size:18px; color:#2C3E50;\">\n",
    "            <b>Accepted Loan Amount: 93M (17.3% of total)</b><br>\n",
    "            <b>Rejected Loan Amount: 447M (82.7% of total)</b>\n",
    "        </p>\n",
    "        <p style=\"font-size:20px; color:#E74C3C; background-color:#2C3E50; padding:10px; border-radius:8px; text-align:center;\">\n",
    "            <b>Most Applicant Loans are Rejected</b>\n",
    "        </p>\n",
    "    </div>\n",
    "  <!-- Additional Insights -->\n",
    "    <div style=\"background-color:#F9EBEA; padding:15px; border-radius:8px; margin-bottom:15px;\">\n",
    "        <p style=\"font-size:18px; color:#2C3E50;\">\n",
    "            Most approved loan amounts are between 15k and 30k, often for applicants with lower incomes or ages 22-60.\n",
    "        </p>\n",
    "    </div>\n",
    " <!-- Relationship between Age and Credit History -->\n",
    "    <div style=\"background-color:#E8F8F5; padding:15px; border-radius:8px; margin-bottom:15px;\">\n",
    "        <p style=\"font-size:18px; color:#1A5276; text-align:center;\">\n",
    "            <b>Strong positive relationship observed between age and length of credit history.</b>\n",
    "        </p>\n",
    "    </div>\n",
    " <!-- Loan Intent and Home Ownership Insights -->\n",
    "    <div style=\"background-color:#FEF5E7; padding:15px; border-radius:8px; color:#7D6608; margin-bottom:15px;\">\n",
    "        <p style=\"font-size:18px;\">\n",
    "            Higher loan grades correlate with applicants who have no default history and often pay on time.\n",
    "        </p>\n",
    "        <p style=\"font-size:18px;\">\n",
    "            Most loans are for education, especially for those renting or with mortgages, while homeowners often request loans for ventures.\n",
    "        </p>\n",
    "        <p style=\"font-size:18px;\">\n",
    "            Medical loans are primarily for renters, and venture loans are commonly requested by homeowners.\n",
    "        </p>\n",
    "    </div>\n",
    " <!-- Interest Rate and Loan Grade Insights -->\n",
    "    <div style=\"background-color:#D1F2EB; padding:15px; border-radius:8px; margin-bottom:15px;\">\n",
    "        <p style=\"font-size:18px; color:#117A65; text-align:center;\">\n",
    "            Higher loan grades (higher risk) are associated with higher interest rates.\n",
    "        </p>\n",
    "    </div>\n",
    "  <!-- Income by Home Ownership -->\n",
    "    <div style=\"background-color:#EBEDEF; padding:15px; border-radius:8px; text-align:center;\">\n",
    "        <p style=\"font-size:18px; color:#5D6D7E;\">\n",
    "            Mortgage homeowners have the highest income, followed by renters, and then owners.\n",
    "        </p>\n",
    "    </div>\n",
    "</div>\n"
   ]
  },
  {
   "cell_type": "code",
   "execution_count": null,
   "metadata": {},
   "outputs": [],
   "source": []
  },
  {
   "cell_type": "code",
   "execution_count": null,
   "metadata": {},
   "outputs": [],
   "source": []
  },
  {
   "cell_type": "markdown",
   "metadata": {},
   "source": [
    "#\n",
    "<p style=\"font-size:50px; color:#EEEEEE; background-color:#2C3E50; padding:10px; border-radius:8px; text-align:center;\">\n",
    "            <b>Modeling</b>\n",
    " </p>"
   ]
  },
  {
   "cell_type": "markdown",
   "metadata": {},
   "source": [
    "\n",
    "<p style=\"font-size:30px; color:green; background-color:#2C3E50; padding:10px; border-radius:8px; text-align:center;\">\n",
    "            <b>Preprocessing</b>\n",
    " </p>"
   ]
  },
  {
   "cell_type": "markdown",
   "metadata": {},
   "source": [
    "## Copy data"
   ]
  },
  {
   "cell_type": "code",
   "execution_count": null,
   "metadata": {},
   "outputs": [],
   "source": [
    "loan=df.copy()\n",
    "loan.head()"
   ]
  },
  {
   "cell_type": "markdown",
   "metadata": {},
   "source": [
    "# \n",
    "\n",
    "<p style=\"font-size:30px; color:brown; background-color:#2C3E50; padding:10px; border-radius:8px; text-align:center;\">\n",
    "            <b>Encoding</b>\n",
    " </p>"
   ]
  },
  {
   "cell_type": "code",
   "execution_count": null,
   "metadata": {},
   "outputs": [],
   "source": [
    "label=LabelEncoder()"
   ]
  },
  {
   "cell_type": "code",
   "execution_count": null,
   "metadata": {},
   "outputs": [],
   "source": [
    "object_column=loan[['person_home_ownership','loan_intent','loan_grade','cb_person_default_on_file']]"
   ]
  },
  {
   "cell_type": "code",
   "execution_count": null,
   "metadata": {},
   "outputs": [],
   "source": [
    "for i in object_column:\n",
    "    loan[i]=label.fit_transform(loan[i])"
   ]
  },
  {
   "cell_type": "code",
   "execution_count": null,
   "metadata": {},
   "outputs": [],
   "source": [
    "loan.head()"
   ]
  },
  {
   "cell_type": "code",
   "execution_count": null,
   "metadata": {},
   "outputs": [],
   "source": [
    "loan.info()"
   ]
  },
  {
   "cell_type": "markdown",
   "metadata": {},
   "source": [
    "# \n",
    "\n",
    "<p style=\"font-size:30px; color:red; background-color:#2C3E50; padding:10px; border-radius:8px; text-align:center;\">\n",
    "            <b>Handling Outliers</b>\n",
    " </p>"
   ]
  },
  {
   "cell_type": "markdown",
   "metadata": {},
   "source": [
    "# check the outliers "
   ]
  },
  {
   "cell_type": "code",
   "execution_count": null,
   "metadata": {},
   "outputs": [],
   "source": [
    "px.box(loan)"
   ]
  },
  {
   "cell_type": "code",
   "execution_count": null,
   "metadata": {},
   "outputs": [],
   "source": [
    "from plotly.subplots import make_subplots\n",
    "import plotly.graph_objects as go\n",
    "\n",
    "# Create a subplot grid\n",
    "fig = make_subplots(rows=1, cols=5, subplot_titles=[\"Person Income\", \"Person Age\", \"Employment Length\", \"Loan Interest Rate\", \"Loan Amount\"])\n",
    "\n",
    "# Add box plots for each column\n",
    "fig.add_trace(go.Box(y=loan['person_income'], name=\"Person Income\"), row=1, col=1)\n",
    "fig.add_trace(go.Box(y=loan['person_age'], name=\"Person Age\"), row=1, col=2)\n",
    "fig.add_trace(go.Box(y=loan['person_emp_length'], name=\"Employment Length\"), row=1, col=3)\n",
    "fig.add_trace(go.Box(y=loan['loan_int_rate'], name=\"Loan Interest Rate\"), row=1, col=4)\n",
    "fig.add_trace(go.Box(y=loan['loan_amnt'], name=\"Loan Amount\"), row=1, col=5)\n",
    "\n",
    "# Update layout for better aesthetics\n",
    "fig.update_layout(\n",
    "    title_text=\"Box Plots of Loan Dataset Features\",\n",
    "    title_x=0.5,\n",
    "    height=600,\n",
    "    width=1400,\n",
    "    showlegend=False,\n",
    "    title_font=dict(size=20)\n",
    ")\n",
    "\n",
    "# Show the figure\n",
    "fig.show()\n"
   ]
  },
  {
   "cell_type": "markdown",
   "metadata": {},
   "source": [
    "<p style=\"font-size:30px; color:#CBD2A4; background-color:#2C3E50; padding:10px; border-radius:8px; text-align:center;\">\n",
    "            <b>There are outliers in the data with person_income amounts exceeding 1,000,000 . </b>\n",
    "</p>"
   ]
  },
  {
   "cell_type": "markdown",
   "metadata": {},
   "source": [
    "<p style=\"font-size:30px; color:#CBD2A4; background-color:#006A67; padding:10px; border-radius:8px; text-align:center;\">\n",
    "            <b>There are outliers in the data with Number of person_age exceeding 80 years</b>\n",
    "</p>"
   ]
  },
  {
   "cell_type": "markdown",
   "metadata": {},
   "source": [
    "<p style=\"font-size:30px; color:#6A9AB0; background-color:#2C3E50; padding:10px; border-radius:8px; text-align:left;\">\n",
    "            <b>There are outliers in the data with Number of years of employment experience exceeding 40 years </b>\n",
    "</p>"
   ]
  },
  {
   "cell_type": "markdown",
   "metadata": {},
   "source": [
    "<p style=\"font-size:30px; color:#CBD2A4; background-color:#2C3E50; padding:10px; border-radius:8px; text-align:center;\">\n",
    "            <b>There are outliers in the data with loan amounts exceeding 35,000, indicating that a few individuals requested unusually high loans compared to others. </b>\n",
    "</p>"
   ]
  },
  {
   "cell_type": "markdown",
   "metadata": {},
   "source": [
    "<p style=\"font-size:30px; color:#CBD2A4; background-color:#2C3E50; padding:10px; border-radius:8px; text-align:center;\">\n",
    "            <b>There is a small outliers in the data with loan_int_rate exceeding 20 . </b>\n",
    "</p>"
   ]
  },
  {
   "cell_type": "code",
   "execution_count": null,
   "metadata": {},
   "outputs": [],
   "source": []
  },
  {
   "cell_type": "code",
   "execution_count": null,
   "metadata": {},
   "outputs": [],
   "source": [
    "plt.figure(figsize=(20,10))\n",
    "sns.heatmap(loan.corr(),annot=True,cmap='viridis')\n",
    "plt.show()"
   ]
  },
  {
   "cell_type": "markdown",
   "metadata": {},
   "source": [
    "# Handling if exist"
   ]
  },
  {
   "cell_type": "code",
   "execution_count": null,
   "metadata": {},
   "outputs": [],
   "source": [
    "outliers_column=loan[['person_income','person_age','person_emp_length','loan_amnt','loan_int_rate']]"
   ]
  },
  {
   "cell_type": "code",
   "execution_count": null,
   "metadata": {},
   "outputs": [],
   "source": [
    "def handling_outliers(loan, lst_of_col):\n",
    "    for i in lst_of_col:\n",
    "        # Calculate Q1, Q3, and IQR for the column\n",
    "        q1 = loan[i].quantile(0.25)\n",
    "        q3 = loan[i].quantile(0.75)\n",
    "        iqr = q3 - q1\n",
    "        upper_limit = q3 + 1.5 * iqr\n",
    "        lower_limit = q1 - 1.5 * iqr\n",
    "\n",
    "        # Apply outlier handling\n",
    "        loan[i] = loan[i].apply(lambda x: lower_limit if x < lower_limit else (upper_limit if x > upper_limit else x))\n",
    "\n",
    "    return loan"
   ]
  },
  {
   "cell_type": "code",
   "execution_count": null,
   "metadata": {},
   "outputs": [],
   "source": [
    "loan=handling_outliers(loan,loan.columns)    "
   ]
  },
  {
   "cell_type": "code",
   "execution_count": null,
   "metadata": {},
   "outputs": [],
   "source": [
    "from plotly.subplots import make_subplots\n",
    "import plotly.graph_objects as go\n",
    "\n",
    "# Create a subplot grid\n",
    "fig = make_subplots(rows=1, cols=5, subplot_titles=[\"Person Income\", \"Person Age\", \"Employment Length\", \"Loan Interest Rate\", \"Loan Amount\"])\n",
    "\n",
    "# Add box plots for each column\n",
    "fig.add_trace(go.Box(y=loan['person_income'], name=\"Person Income\"), row=1, col=1)\n",
    "fig.add_trace(go.Box(y=loan['person_age'], name=\"Person Age\"), row=1, col=2)\n",
    "fig.add_trace(go.Box(y=loan['person_emp_length'], name=\"Employment Length\"), row=1, col=3)\n",
    "fig.add_trace(go.Box(y=loan['loan_int_rate'], name=\"Loan Interest Rate\"), row=1, col=4)\n",
    "fig.add_trace(go.Box(y=loan['loan_amnt'], name=\"Loan Amount\"), row=1, col=5)\n",
    "\n",
    "# Update layout for better aesthetics\n",
    "fig.update_layout(\n",
    "    title_text=\"Box Plots of Loan Dataset Features\",\n",
    "    title_x=0.5,\n",
    "    height=600,\n",
    "    width=1400,\n",
    "    showlegend=False,\n",
    "    title_font=dict(size=20)\n",
    ")\n",
    "\n",
    "# Show the figure\n",
    "fig.show()\n"
   ]
  },
  {
   "cell_type": "code",
   "execution_count": null,
   "metadata": {},
   "outputs": [],
   "source": []
  },
  {
   "cell_type": "code",
   "execution_count": null,
   "metadata": {},
   "outputs": [],
   "source": [
    "# Calculate correlation matrix\n",
    "corr_matrix = loan.corr()\n",
    "\n",
    "# Create a heatmap using plotly.graph_objects\n",
    "fig = go.Figure(data=go.Heatmap(\n",
    "    z=corr_matrix.values,\n",
    "    x=corr_matrix.columns,\n",
    "    y=corr_matrix.columns,\n",
    "    colorscale='Viridis',  # Color scale\n",
    "    zmin=-1, zmax=1,  # Correlation range\n",
    "    colorbar=dict(title=\"Correlation\"),\n",
    "    hoverongaps=False\n",
    "))\n",
    "\n",
    "# Add annotations for correlation values\n",
    "for i in range(len(corr_matrix.columns)):\n",
    "    for j in range(len(corr_matrix.columns)):\n",
    "        fig.add_annotation(\n",
    "            x=corr_matrix.columns[j],\n",
    "            y=corr_matrix.columns[i],\n",
    "            text=f'{corr_matrix.iloc[i, j]:.2f}',\n",
    "            showarrow=False,\n",
    "            font=dict(size=12, color='black'),\n",
    "            align=\"center\"\n",
    "        )\n",
    "\n",
    "# Update layout with title and axis labels\n",
    "fig.update_layout(\n",
    "    title=\"Correlation Heatmap of Loan Data\",\n",
    "    title_x=0.5,\n",
    "    title_font=dict(size=20),\n",
    "    xaxis_title=\"Features\",\n",
    "    yaxis_title=\"Features\",\n",
    "    width=1000,\n",
    "    height=800\n",
    ")\n",
    "\n",
    "# Show the plot\n",
    "fig.show()\n"
   ]
  },
  {
   "cell_type": "code",
   "execution_count": null,
   "metadata": {},
   "outputs": [],
   "source": [
    "loan.head()"
   ]
  },
  {
   "cell_type": "code",
   "execution_count": null,
   "metadata": {},
   "outputs": [],
   "source": [
    "# Convert 'cb_person_default_on_file' and 'loan_status' columns to integers\n",
    "loan['cb_person_default_on_file'] = loan['cb_person_default_on_file'].astype(int)\n",
    "loan['loan_status'] = loan['loan_status'].astype(int)"
   ]
  },
  {
   "cell_type": "markdown",
   "metadata": {},
   "source": []
  },
  {
   "cell_type": "markdown",
   "metadata": {},
   "source": [
    "# \n",
    "\n",
    "<p style=\"font-size:30px; color:green; background-color:#2C3E50; padding:10px; border-radius:8px; text-align:center;\">\n",
    "            <b>   Model Selection  </b>\n",
    " </p>"
   ]
  },
  {
   "cell_type": "markdown",
   "metadata": {},
   "source": [
    "# Spliting Data"
   ]
  },
  {
   "cell_type": "code",
   "execution_count": null,
   "metadata": {},
   "outputs": [],
   "source": [
    "X=loan.drop(['id','loan_status',\"person_emp_length\"],axis=1)\n",
    "y=loan['loan_status']"
   ]
  },
  {
   "cell_type": "code",
   "execution_count": null,
   "metadata": {},
   "outputs": [],
   "source": [
    "# Create the pie chart for Loan status (0 for rejected, 1 for approved)\n",
    "fig = px.pie(\n",
    "    df['loan_status'].value_counts().reset_index(),\n",
    "    names='loan_status',  # Set regions as labels\n",
    "    values='count',   # Set count as the value for each slice\n",
    "    color='loan_status',\n",
    "    color_discrete_sequence=sky\n",
    ")\n",
    "# Update layout for title\n",
    "fig.update_layout(\n",
    "    title=\"Loan status (0 for rejected, 1 for approved).\",\n",
    "    title_x=0.5,\n",
    "    title_font=dict(size=20)\n",
    ")\n",
    "# Show name, percentage, and value on each slice\n",
    "fig.update_traces(textinfo='label+percent+value', hole=0.4)"
   ]
  },
  {
   "cell_type": "markdown",
   "metadata": {},
   "source": [
    "# \n",
    "\n",
    "<p style=\"font-size:30px; color:green; background-color:#2C3E50; padding:10px; border-radius:8px; text-align:center;\">\n",
    "            <b> there is an imbalance as shown in the graph so we have to handle it  </b>\n",
    " </p>"
   ]
  },
  {
   "cell_type": "code",
   "execution_count": null,
   "metadata": {},
   "outputs": [],
   "source": []
  },
  {
   "cell_type": "markdown",
   "metadata": {},
   "source": [
    "# Combined (Hybrid) Sampling"
   ]
  },
  {
   "cell_type": "code",
   "execution_count": null,
   "metadata": {},
   "outputs": [],
   "source": [
    "# Combined (Hybrid) Sampling\n",
    "from imblearn.combine import SMOTEENN\n",
    "\n",
    "smote_enn = SMOTEENN(random_state=42)\n",
    "X_combined, y_combined = smote_enn.fit_resample(X, y)\n",
    "\n",
    "print(f\"Original dataset shape: {Counter(y)}\")\n",
    "print(f\"Combined SMOTEENN dataset shape: {Counter(y_combined)}\")\n"
   ]
  },
  {
   "cell_type": "code",
   "execution_count": null,
   "metadata": {},
   "outputs": [],
   "source": [
    "X_train,X_test,y_train,y_test=train_test_split(X,y,test_size=0.2,random_state=42)"
   ]
  },
  {
   "cell_type": "code",
   "execution_count": null,
   "metadata": {},
   "outputs": [],
   "source": [
    "X_train,X_test,y_train,y_test=train_test_split(X_combined,y_combined,test_size=0.2,random_state=42)"
   ]
  },
  {
   "cell_type": "markdown",
   "metadata": {},
   "source": [
    "# Scaling data"
   ]
  },
  {
   "cell_type": "code",
   "execution_count": null,
   "metadata": {},
   "outputs": [],
   "source": [
    "scaler = StandardScaler()\n",
    "X_train = scaler.fit_transform(X_train)\n",
    "X_test = scaler.transform(X_test)"
   ]
  },
  {
   "cell_type": "code",
   "execution_count": null,
   "metadata": {},
   "outputs": [],
   "source": []
  },
  {
   "cell_type": "markdown",
   "metadata": {},
   "source": [
    "# xgboost Alg"
   ]
  },
  {
   "cell_type": "code",
   "execution_count": null,
   "metadata": {},
   "outputs": [],
   "source": [
    "import xgboost as xgb\n",
    "gb = xgb.XGBClassifier( n_estimators=600,learning_rate=0.08, gamma=0,subsample=0.75,colsample_bytree=1, max_depth=10)"
   ]
  },
  {
   "cell_type": "code",
   "execution_count": null,
   "metadata": {},
   "outputs": [],
   "source": [
    "gb.fit(X_train, y_train)"
   ]
  },
  {
   "cell_type": "code",
   "execution_count": null,
   "metadata": {},
   "outputs": [],
   "source": [
    "y_test_preds = gb.predict(X_test)"
   ]
  },
  {
   "cell_type": "code",
   "execution_count": null,
   "metadata": {},
   "outputs": [],
   "source": [
    "cm = confusion_matrix(y_test, y_test_preds)\n",
    "print(cm)\n",
    "accuracy_score(y_test, y_test_preds)"
   ]
  },
  {
   "cell_type": "code",
   "execution_count": null,
   "metadata": {},
   "outputs": [],
   "source": [
    "gb = pickle.load(open('model loan.pkl','rb'))"
   ]
  },
  {
   "cell_type": "code",
   "execution_count": null,
   "metadata": {},
   "outputs": [],
   "source": [
    "pickle.dump(gb, open('model loan.pkl','wb'))"
   ]
  },
  {
   "cell_type": "code",
   "execution_count": null,
   "metadata": {},
   "outputs": [],
   "source": [
    "model = pickle.load(open('model loan.pkl','rb'))"
   ]
  },
  {
   "cell_type": "code",
   "execution_count": null,
   "metadata": {},
   "outputs": [],
   "source": [
    "selected_features = ['person_age', 'person_income', 'person_home_ownership', \n",
    "                        'loan_intent', 'loan_amnt', 'person_emp_length']\n",
    "X = loan[selected_features]"
   ]
  },
  {
   "cell_type": "code",
   "execution_count": null,
   "metadata": {},
   "outputs": [],
   "source": [
    "# Scale the selected features\n",
    "scaler = StandardScaler()\n",
    "X_scaled = scaler.fit_transform(X)\n",
    "\n",
    "with open('scaler loan.pkl', 'wb') as f:\n",
    "    pickle.dump(scaler, f)"
   ]
  },
  {
   "cell_type": "markdown",
   "metadata": {},
   "source": [
    "# RandomForestClassifier ALG "
   ]
  },
  {
   "cell_type": "code",
   "execution_count": null,
   "metadata": {},
   "outputs": [],
   "source": [
    "from sklearn.ensemble import RandomForestClassifier\n",
    "classifier = RandomForestClassifier(n_estimators = 300, criterion = 'gini', random_state = 42)"
   ]
  },
  {
   "cell_type": "code",
   "execution_count": null,
   "metadata": {},
   "outputs": [],
   "source": [
    "classifier.fit(X_train, y_train)\n"
   ]
  },
  {
   "cell_type": "code",
   "execution_count": null,
   "metadata": {},
   "outputs": [],
   "source": [
    "y_pred = classifier.predict(X_test)\n"
   ]
  },
  {
   "cell_type": "code",
   "execution_count": null,
   "metadata": {},
   "outputs": [],
   "source": [
    "from sklearn.metrics import confusion_matrix, accuracy_score\n",
    "cm = confusion_matrix(y_test, y_pred)\n",
    "print(cm)\n",
    "accuracy_score(y_test, y_pred)\n"
   ]
  },
  {
   "cell_type": "code",
   "execution_count": null,
   "metadata": {},
   "outputs": [],
   "source": []
  },
  {
   "cell_type": "markdown",
   "metadata": {},
   "source": [
    "# DecisionTreeClassifier"
   ]
  },
  {
   "cell_type": "code",
   "execution_count": null,
   "metadata": {},
   "outputs": [],
   "source": [
    "from sklearn.tree import DecisionTreeClassifier\n",
    "classifier1 = DecisionTreeClassifier(criterion = 'entropy',random_state = 42,max_depth=None,min_samples_leaf=1,min_samples_split=5)\n",
    "classifier1.fit(X_train, y_train)"
   ]
  },
  {
   "cell_type": "code",
   "execution_count": null,
   "metadata": {},
   "outputs": [],
   "source": [
    "y_pred_dec=classifier1.predict(X_test)"
   ]
  },
  {
   "cell_type": "code",
   "execution_count": null,
   "metadata": {},
   "outputs": [],
   "source": [
    "cm = confusion_matrix(y_test, y_pred)\n",
    "print(cm)\n",
    "accuracy_score(y_test, y_pred_dec)"
   ]
  },
  {
   "cell_type": "code",
   "execution_count": null,
   "metadata": {},
   "outputs": [],
   "source": []
  },
  {
   "cell_type": "markdown",
   "metadata": {},
   "source": [
    "# SVM ( poly )"
   ]
  },
  {
   "cell_type": "code",
   "execution_count": null,
   "metadata": {},
   "outputs": [],
   "source": [
    "from sklearn.svm import SVC\n",
    "svc_model1 = SVC(kernel = 'poly', random_state = 42,C=2,degree=2)"
   ]
  },
  {
   "cell_type": "code",
   "execution_count": null,
   "metadata": {},
   "outputs": [],
   "source": [
    "svc_model1.fit(X_train,y_train)"
   ]
  },
  {
   "cell_type": "code",
   "execution_count": null,
   "metadata": {},
   "outputs": [],
   "source": [
    "y_pred_svc1=svc_model1.predict(X_test)"
   ]
  },
  {
   "cell_type": "code",
   "execution_count": null,
   "metadata": {},
   "outputs": [],
   "source": [
    "cm = confusion_matrix(y_test, y_pred)\n",
    "print(cm)\n",
    "accuracy_score(y_test, y_pred_svc1)"
   ]
  },
  {
   "cell_type": "code",
   "execution_count": null,
   "metadata": {},
   "outputs": [],
   "source": []
  },
  {
   "cell_type": "markdown",
   "metadata": {},
   "source": [
    "# SVM ( rbf )"
   ]
  },
  {
   "cell_type": "code",
   "execution_count": null,
   "metadata": {},
   "outputs": [],
   "source": [
    "svc_model1 = SVC(kernel = 'rbf', random_state = 42,C=5)"
   ]
  },
  {
   "cell_type": "code",
   "execution_count": null,
   "metadata": {},
   "outputs": [],
   "source": [
    "svc_model1.fit(X_train,y_train)"
   ]
  },
  {
   "cell_type": "code",
   "execution_count": null,
   "metadata": {},
   "outputs": [],
   "source": [
    "y_pred_svc1=svc_model1.predict(X_test)"
   ]
  },
  {
   "cell_type": "code",
   "execution_count": null,
   "metadata": {},
   "outputs": [],
   "source": [
    "cm = confusion_matrix(y_test, y_pred)\n",
    "print(cm)\n",
    "accuracy_score(y_test, y_pred_svc1)"
   ]
  },
  {
   "cell_type": "markdown",
   "metadata": {},
   "source": [
    "# SVM ( linear )"
   ]
  },
  {
   "cell_type": "code",
   "execution_count": null,
   "metadata": {},
   "outputs": [],
   "source": [
    "svc_model=SVC(C=5)"
   ]
  },
  {
   "cell_type": "code",
   "execution_count": null,
   "metadata": {},
   "outputs": [],
   "source": [
    "svc_model.fit(X_train,y_train)"
   ]
  },
  {
   "cell_type": "code",
   "execution_count": null,
   "metadata": {},
   "outputs": [],
   "source": [
    "y_pred_svc=svc_model.predict(X_test)"
   ]
  },
  {
   "cell_type": "code",
   "execution_count": null,
   "metadata": {},
   "outputs": [],
   "source": [
    "cm = confusion_matrix(y_test, y_pred)\n",
    "print(cm)\n",
    "accuracy_score(y_test, y_pred_svc)"
   ]
  },
  {
   "cell_type": "code",
   "execution_count": null,
   "metadata": {},
   "outputs": [],
   "source": []
  },
  {
   "cell_type": "markdown",
   "metadata": {},
   "source": [
    "# LogisticRegression"
   ]
  },
  {
   "cell_type": "code",
   "execution_count": null,
   "metadata": {},
   "outputs": [],
   "source": [
    "from sklearn.linear_model import LogisticRegression\n",
    "log=LogisticRegression()\n",
    "log.fit(X_train,y_train)"
   ]
  },
  {
   "cell_type": "code",
   "execution_count": null,
   "metadata": {},
   "outputs": [],
   "source": [
    "y_pred_log=log.predict(X_test)"
   ]
  },
  {
   "cell_type": "code",
   "execution_count": null,
   "metadata": {},
   "outputs": [],
   "source": [
    "cm = confusion_matrix(y_test, y_pred)\n",
    "print(cm)\n",
    "accuracy_score(y_test, y_pred_log)"
   ]
  },
  {
   "cell_type": "code",
   "execution_count": null,
   "metadata": {},
   "outputs": [],
   "source": []
  },
  {
   "cell_type": "markdown",
   "metadata": {},
   "source": [
    "# KNeighborsClassifier"
   ]
  },
  {
   "cell_type": "code",
   "execution_count": null,
   "metadata": {},
   "outputs": [],
   "source": [
    "from sklearn.neighbors import KNeighborsClassifier\n",
    "classifier = KNeighborsClassifier(n_neighbors = 1, metric = 'minkowski', p = 2)\n",
    "classifier.fit(X_train, y_train)\n"
   ]
  },
  {
   "cell_type": "code",
   "execution_count": null,
   "metadata": {},
   "outputs": [],
   "source": [
    "\n",
    "cm1= confusion_matrix(y_test, y_pred)\n",
    "cm = confusion_matrix(y_test, y_pred, labels=classifier.classes_)\n",
    "plt.show()\n",
    "\n",
    "print(cm)\n",
    "accuracy_score(y_test, y_pred)\n",
    "\n"
   ]
  },
  {
   "cell_type": "code",
   "execution_count": null,
   "metadata": {},
   "outputs": [],
   "source": [
    "test_error_rates = []\n",
    "\n",
    "for k in range(1,20):\n",
    "    knn_model = KNeighborsClassifier(n_neighbors=k)\n",
    "    knn_model.fit(X_train,y_train) \n",
    "   \n",
    "    y_pred_test = knn_model.predict(X_test)\n",
    "    \n",
    "    test_error = 1 - accuracy_score(y_test,y_pred_test)\n",
    "    test_error_rates.append(test_error)"
   ]
  },
  {
   "cell_type": "code",
   "execution_count": null,
   "metadata": {},
   "outputs": [],
   "source": [
    "plt.figure(figsize=(10,4),dpi=200)\n",
    "plt.plot(range(1,20),test_error_rates,label='Test Error')\n",
    "plt.legend()\n",
    "plt.ylabel('Error Rate')\n",
    "plt.xlabel(\"K Value\")"
   ]
  },
  {
   "cell_type": "code",
   "execution_count": null,
   "metadata": {},
   "outputs": [],
   "source": []
  },
  {
   "cell_type": "code",
   "execution_count": null,
   "metadata": {},
   "outputs": [],
   "source": []
  },
  {
   "cell_type": "code",
   "execution_count": null,
   "metadata": {},
   "outputs": [],
   "source": []
  },
  {
   "cell_type": "code",
   "execution_count": null,
   "metadata": {},
   "outputs": [],
   "source": []
  },
  {
   "cell_type": "code",
   "execution_count": null,
   "metadata": {},
   "outputs": [],
   "source": []
  }
 ],
 "metadata": {
  "kernelspec": {
   "display_name": "Python 3",
   "language": "python",
   "name": "python3"
  },
  "language_info": {
   "codemirror_mode": {
    "name": "ipython",
    "version": 3
   },
   "file_extension": ".py",
   "mimetype": "text/x-python",
   "name": "python",
   "nbconvert_exporter": "python",
   "pygments_lexer": "ipython3",
   "version": "3.12.4"
  }
 },
 "nbformat": 4,
 "nbformat_minor": 2
}
